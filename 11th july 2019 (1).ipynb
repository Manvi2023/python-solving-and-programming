{
 "cells": [
  {
   "cell_type": "markdown",
   "metadata": {},
   "source": [
    "### Standard Libraries"
   ]
  },
  {
   "cell_type": "markdown",
   "metadata": {},
   "source": [
    "### File Handling in Python\n"
   ]
  },
  {
   "cell_type": "markdown",
   "metadata": {},
   "source": [
    "### Modes of the file I/O\n"
   ]
  },
  {
   "cell_type": "code",
   "execution_count": 5,
   "metadata": {},
   "outputs": [
    {
     "name": "stdout",
     "output_type": "stream",
     "text": [
      "File is created and data has written\n"
     ]
    }
   ],
   "source": [
    "# Function to create a file and write to the file\n",
    "def createFile(filename):\n",
    "    f = open(filename,'w')\n",
    "    for i in range(10):\n",
    "        f.write('This is %d line\\n' % i)\n",
    "        print(\"File is created and data has written\")\n",
    "        return\n",
    "createFile('file1.txt')"
   ]
  },
  {
   "cell_type": "code",
   "execution_count": 6,
   "metadata": {},
   "outputs": [
    {
     "name": "stdout",
     "output_type": "stream",
     "text": [
      " Volume in drive C has no label.\n",
      " Volume Serial Number is A212-862E\n",
      "\n",
      " Directory of C:\\Users\\molab\n",
      "\n",
      "11-07-2019  09:46    <DIR>          .\n",
      "11-07-2019  09:46    <DIR>          ..\n",
      "15-06-2019  15:58    <DIR>          .anaconda\n",
      "05-07-2019  09:50             3,002 .bash_history\n",
      "06-07-2019  13:22    <DIR>          .conda\n",
      "06-07-2019  09:29                43 .condarc\n",
      "11-07-2019  09:10    <DIR>          .ipynb_checkpoints\n",
      "15-06-2019  16:03    <DIR>          .ipython\n",
      "05-07-2019  10:59    <DIR>          .jupyter\n",
      "10-07-2019  12:56             9,022 10th july 2019.ipynb\n",
      "11-07-2019  09:45             1,336 11th july 2019.ipynb\n",
      "05-07-2019  14:48             5,652 5th july 2019.ipynb\n",
      "06-07-2019  12:10             3,730 6th july 19.ipynb\n",
      "06-07-2019  09:58             2,558 6th July 2019.ipynb\n",
      "08-07-2019  09:53             1,265 8th July 2019.ipynb\n",
      "09-07-2019  10:48             5,996 9th july 2019.ipynb\n",
      "15-06-2019  15:56    <DIR>          Anaconda3\n",
      "14-06-2019  15:40    <DIR>          Contacts\n",
      "22-06-2019  15:51             6,859 Day-6.ipynb\n",
      "10-07-2019  09:42    <DIR>          Desktop\n",
      "11-07-2019  08:59    <DIR>          Documents\n",
      "10-07-2019  09:06    <DIR>          Downloads\n",
      "14-06-2019  15:40    <DIR>          Favorites\n",
      "11-07-2019  09:46                16 file1.txt\n",
      "05-07-2019  09:18    <DIR>          Git\n",
      "14-06-2019  15:40    <DIR>          Links\n",
      "05-07-2019  16:45             5,652 manvi.ipynb\n",
      "05-07-2019  16:46             5,652 manvi-Copy1.ipynb\n",
      "14-06-2019  15:40    <DIR>          Music\n",
      "03-07-2019  09:45    <DIR>          Pictures\n",
      "05-07-2019  09:18    <DIR>          probsolvingprogramming\n",
      "14-06-2019  15:40    <DIR>          Saved Games\n",
      "01-07-2019  09:44    <DIR>          Searches\n",
      "15-06-2019  16:03               734 Untitled.ipynb\n",
      "21-06-2019  09:40             2,586 Untitled1.ipynb\n",
      "21-06-2019  14:45               956 Untitled2.ipynb\n",
      "14-06-2019  15:40    <DIR>          Videos\n",
      "              16 File(s)         55,059 bytes\n",
      "              21 Dir(s)  188,046,487,552 bytes free\n"
     ]
    }
   ],
   "source": [
    "ls"
   ]
  },
  {
   "cell_type": "code",
   "execution_count": 7,
   "metadata": {},
   "outputs": [
    {
     "name": "stdout",
     "output_type": "stream",
     "text": [
      "File is created and data has written\n"
     ]
    }
   ],
   "source": [
    "def createFile(filename):\n",
    "    f = open(filename,'w')\n",
    "    f.write('Testing...\\n')\n",
    "    print(\"File is created and data has written\")\n",
    "    return\n",
    "createFile('file1.txt')"
   ]
  },
  {
   "cell_type": "code",
   "execution_count": 9,
   "metadata": {},
   "outputs": [
    {
     "name": "stdout",
     "output_type": "stream",
     "text": [
      "File Created and Successfully data written\n"
     ]
    }
   ],
   "source": [
    "def appendData(filename):\n",
    "    f = open(filename,'a')\n",
    "    for i in range(10):\n",
    "        f.write(\"This is %d Line\\n\" % i)\n",
    "    print(\"File Created and Successfully data written\")\n",
    "    return\n",
    "appendData('file2.txt')     "
   ]
  },
  {
   "cell_type": "code",
   "execution_count": 10,
   "metadata": {},
   "outputs": [
    {
     "name": "stdout",
     "output_type": "stream",
     "text": [
      "File Created and Successfully data written\n"
     ]
    }
   ],
   "source": [
    "def appenddata(filename):\n",
    "    f = open(filename,'a')\n",
    "    f.write(\"new Line 1 \\n\")\n",
    "    f.write(\"new line 2 \\n\")\n",
    "    print('file created and successfully data written')\n",
    "    return\n",
    "appendData('file2.txt')"
   ]
  },
  {
   "cell_type": "code",
   "execution_count": 11,
   "metadata": {},
   "outputs": [
    {
     "name": "stdout",
     "output_type": "stream",
     "text": [
      "This is 0 Line\n",
      "This is 1 Line\n",
      "This is 2 Line\n",
      "This is 3 Line\n",
      "This is 4 Line\n",
      "This is 5 Line\n",
      "This is 6 Line\n",
      "This is 7 Line\n",
      "This is 8 Line\n",
      "This is 9 Line\n",
      "This is 0 Line\n",
      "This is 1 Line\n",
      "This is 2 Line\n",
      "This is 3 Line\n",
      "This is 4 Line\n",
      "This is 5 Line\n",
      "This is 6 Line\n",
      "This is 7 Line\n",
      "This is 8 Line\n",
      "This is 9 Line\n",
      "\n"
     ]
    }
   ],
   "source": [
    "# function to read of the file\n",
    "def readFiledata(filename):\n",
    "    f = open(filename,'r')\n",
    "    if f.mode == 'r':\n",
    "        x = f.read()\n",
    "        print(x)\n",
    "    f.close()\n",
    "    return\n",
    "readFiledata('file2.txt')"
   ]
  },
  {
   "cell_type": "code",
   "execution_count": 2,
   "metadata": {},
   "outputs": [
    {
     "name": "stdout",
     "output_type": "stream",
     "text": [
      "enter the file namefile2.txt\n",
      "enter the mode of the filer\n"
     ]
    },
    {
     "ename": "NameError",
     "evalue": "name 'fileopertions' is not defined",
     "output_type": "error",
     "traceback": [
      "\u001b[1;31m---------------------------------------------------------------------------\u001b[0m",
      "\u001b[1;31mNameError\u001b[0m                                 Traceback (most recent call last)",
      "\u001b[1;32m<ipython-input-2-424ffe6cc786>\u001b[0m in \u001b[0;36m<module>\u001b[1;34m\u001b[0m\n\u001b[0;32m     12\u001b[0m \u001b[0mfilename\u001b[0m \u001b[1;33m=\u001b[0m \u001b[0minput\u001b[0m\u001b[1;33m(\u001b[0m\u001b[1;34m'enter the file name'\u001b[0m\u001b[1;33m)\u001b[0m\u001b[1;33m\u001b[0m\u001b[1;33m\u001b[0m\u001b[0m\n\u001b[0;32m     13\u001b[0m \u001b[0mmode\u001b[0m \u001b[1;33m=\u001b[0m \u001b[0minput\u001b[0m\u001b[1;33m(\u001b[0m\u001b[1;34m'enter the mode of the file'\u001b[0m\u001b[1;33m)\u001b[0m\u001b[1;33m\u001b[0m\u001b[1;33m\u001b[0m\u001b[0m\n\u001b[1;32m---> 14\u001b[1;33m \u001b[0mfileopertions\u001b[0m\u001b[1;33m(\u001b[0m\u001b[0mfilename\u001b[0m\u001b[1;33m,\u001b[0m\u001b[0mmode\u001b[0m\u001b[1;33m)\u001b[0m\u001b[1;33m\u001b[0m\u001b[1;33m\u001b[0m\u001b[0m\n\u001b[0m",
      "\u001b[1;31mNameError\u001b[0m: name 'fileopertions' is not defined"
     ]
    }
   ],
   "source": [
    "# function to read the file\n",
    "def fileoperations(filename,mode):\n",
    "    with open(filename,mode) as f:\n",
    "        if f.mode == 'r':\n",
    "            data = f.read()\n",
    "            print(data)\n",
    "        elif f.mode == 'a':\n",
    "            f.write('Data to the file\\n')\n",
    "            print('The data successfully written')\n",
    "    f.close()\n",
    "    return\n",
    "filename = input('enter the file name')\n",
    "mode = input('enter the mode of the file')\n",
    "fileopertions(filename,mode)"
   ]
  },
  {
   "cell_type": "code",
   "execution_count": 3,
   "metadata": {},
   "outputs": [
    {
     "name": "stdout",
     "output_type": "stream",
     "text": [
      "Enter the file name :file2.txt\n",
      "Enter the word : this\n"
     ]
    },
    {
     "data": {
      "text/plain": [
       "0"
      ]
     },
     "execution_count": 3,
     "metadata": {},
     "output_type": "execute_result"
    }
   ],
   "source": [
    "def wordcount(filename,word):\n",
    "    with open(filename,'r') as f:\n",
    "        if f.mode == 'r':\n",
    "            x = f.read()\n",
    "            li = x.split()\n",
    "    cnt = li.count(word)\n",
    "    return cnt\n",
    "filename = input('Enter the file name :')\n",
    "word = input('Enter the word : ')\n",
    "wordcount(filename,word)"
   ]
  },
  {
   "cell_type": "markdown",
   "metadata": {},
   "source": [
    "### Creating a single directry"
   ]
  },
  {
   "cell_type": "code",
   "execution_count": 1,
   "metadata": {},
   "outputs": [],
   "source": [
    "import os\n",
    "os.mkdir('single directry')"
   ]
  },
  {
   "cell_type": "code",
   "execution_count": 2,
   "metadata": {},
   "outputs": [],
   "source": [
    "import pathlib\n",
    "p=pathlib.Path('Test folder')\n",
    "p.mkdir()"
   ]
  },
  {
   "cell_type": "code",
   "execution_count": 3,
   "metadata": {},
   "outputs": [
    {
     "name": "stdout",
     "output_type": "stream",
     "text": [
      " Volume in drive C has no label.\n",
      " Volume Serial Number is A212-862E\n",
      "\n",
      " Directory of C:\\Users\\molab\n",
      "\n",
      "11-07-2019  15:59    <DIR>          .\n",
      "11-07-2019  15:59    <DIR>          ..\n",
      "15-06-2019  15:58    <DIR>          .anaconda\n",
      "05-07-2019  09:50             3,002 .bash_history\n",
      "06-07-2019  13:22    <DIR>          .conda\n",
      "06-07-2019  09:29                43 .condarc\n",
      "11-07-2019  09:10    <DIR>          .ipynb_checkpoints\n",
      "15-06-2019  16:03    <DIR>          .ipython\n",
      "05-07-2019  10:59    <DIR>          .jupyter\n",
      "11-07-2019  15:04             9,022 10th july 2019.ipynb\n",
      "11-07-2019  15:48             9,962 11th july 2019.ipynb\n",
      "05-07-2019  14:48             5,652 5th july 2019.ipynb\n",
      "06-07-2019  12:10             3,730 6th july 19.ipynb\n",
      "06-07-2019  09:58             2,558 6th July 2019.ipynb\n",
      "08-07-2019  09:53             1,265 8th July 2019.ipynb\n",
      "09-07-2019  10:48             5,996 9th july 2019.ipynb\n",
      "15-06-2019  15:56    <DIR>          Anaconda3\n",
      "14-06-2019  15:40    <DIR>          Contacts\n",
      "22-06-2019  15:51             6,859 Day-6.ipynb\n",
      "10-07-2019  09:42    <DIR>          Desktop\n",
      "11-07-2019  08:59    <DIR>          Documents\n",
      "11-07-2019  15:10    <DIR>          Downloads\n",
      "14-06-2019  15:40    <DIR>          Favorites\n",
      "11-07-2019  09:54                12 file1.txt\n",
      "11-07-2019  10:13               320 file2.txt\n",
      "05-07-2019  09:18    <DIR>          Git\n",
      "14-06-2019  15:40    <DIR>          Links\n",
      "05-07-2019  16:45             5,652 manvi.ipynb\n",
      "05-07-2019  16:46             5,652 manvi-Copy1.ipynb\n",
      "14-06-2019  15:40    <DIR>          Music\n",
      "03-07-2019  09:45    <DIR>          Pictures\n",
      "05-07-2019  09:18    <DIR>          probsolvingprogramming\n",
      "14-06-2019  15:40    <DIR>          Saved Games\n",
      "01-07-2019  09:44    <DIR>          Searches\n",
      "11-07-2019  15:47    <DIR>          single directry\n",
      "11-07-2019  15:59    <DIR>          Test folder\n",
      "15-06-2019  16:03               734 Untitled.ipynb\n",
      "21-06-2019  09:40             2,586 Untitled1.ipynb\n",
      "21-06-2019  14:45               956 Untitled2.ipynb\n",
      "14-06-2019  15:40    <DIR>          Videos\n",
      "              17 File(s)         64,001 bytes\n",
      "              23 Dir(s)  187,721,183,232 bytes free\n"
     ]
    }
   ],
   "source": [
    "ls"
   ]
  },
  {
   "cell_type": "markdown",
   "metadata": {},
   "source": [
    "## Creating Multiple Directories"
   ]
  },
  {
   "cell_type": "code",
   "execution_count": 5,
   "metadata": {},
   "outputs": [],
   "source": [
    "import os\n",
    "os.makedirs('2019/July/11')"
   ]
  },
  {
   "cell_type": "code",
   "execution_count": 6,
   "metadata": {},
   "outputs": [
    {
     "name": "stdout",
     "output_type": "stream",
     "text": [
      " Volume in drive C has no label.\n",
      " Volume Serial Number is A212-862E\n",
      "\n",
      " Directory of C:\\Users\\molab\n",
      "\n",
      "11-07-2019  16:04    <DIR>          .\n",
      "11-07-2019  16:04    <DIR>          ..\n",
      "15-06-2019  15:58    <DIR>          .anaconda\n",
      "05-07-2019  09:50             3,002 .bash_history\n",
      "06-07-2019  13:22    <DIR>          .conda\n",
      "06-07-2019  09:29                43 .condarc\n",
      "11-07-2019  09:10    <DIR>          .ipynb_checkpoints\n",
      "15-06-2019  16:03    <DIR>          .ipython\n",
      "05-07-2019  10:59    <DIR>          .jupyter\n",
      "11-07-2019  15:04             9,022 10th july 2019.ipynb\n",
      "11-07-2019  16:04            13,361 11th july 2019.ipynb\n",
      "11-07-2019  16:04    <DIR>          2019\n",
      "05-07-2019  14:48             5,652 5th july 2019.ipynb\n",
      "06-07-2019  12:10             3,730 6th july 19.ipynb\n",
      "06-07-2019  09:58             2,558 6th July 2019.ipynb\n",
      "08-07-2019  09:53             1,265 8th July 2019.ipynb\n",
      "09-07-2019  10:48             5,996 9th july 2019.ipynb\n",
      "15-06-2019  15:56    <DIR>          Anaconda3\n",
      "14-06-2019  15:40    <DIR>          Contacts\n",
      "22-06-2019  15:51             6,859 Day-6.ipynb\n",
      "10-07-2019  09:42    <DIR>          Desktop\n",
      "11-07-2019  08:59    <DIR>          Documents\n",
      "11-07-2019  15:10    <DIR>          Downloads\n",
      "14-06-2019  15:40    <DIR>          Favorites\n",
      "11-07-2019  09:54                12 file1.txt\n",
      "11-07-2019  10:13               320 file2.txt\n",
      "05-07-2019  09:18    <DIR>          Git\n",
      "14-06-2019  15:40    <DIR>          Links\n",
      "05-07-2019  16:45             5,652 manvi.ipynb\n",
      "05-07-2019  16:46             5,652 manvi-Copy1.ipynb\n",
      "14-06-2019  15:40    <DIR>          Music\n",
      "03-07-2019  09:45    <DIR>          Pictures\n",
      "05-07-2019  09:18    <DIR>          probsolvingprogramming\n",
      "14-06-2019  15:40    <DIR>          Saved Games\n",
      "01-07-2019  09:44    <DIR>          Searches\n",
      "11-07-2019  15:47    <DIR>          single directry\n",
      "11-07-2019  15:59    <DIR>          Test folder\n",
      "15-06-2019  16:03               734 Untitled.ipynb\n",
      "21-06-2019  09:40             2,586 Untitled1.ipynb\n",
      "21-06-2019  14:45               956 Untitled2.ipynb\n",
      "14-06-2019  15:40    <DIR>          Videos\n",
      "              17 File(s)         67,400 bytes\n",
      "              24 Dir(s)  187,719,970,816 bytes free\n"
     ]
    }
   ],
   "source": [
    "ls"
   ]
  },
  {
   "cell_type": "markdown",
   "metadata": {},
   "source": [
    "## Filename Pattern Matching"
   ]
  },
  {
   "cell_type": "code",
   "execution_count": 7,
   "metadata": {},
   "outputs": [
    {
     "name": "stdout",
     "output_type": "stream",
     "text": [
      "[WinError 2] The system cannot find the file specified: 'Pythonprogramming'\n",
      "C:\\Users\\molab\n"
     ]
    }
   ],
   "source": [
    "cd Pythonprogramming"
   ]
  },
  {
   "cell_type": "code",
   "execution_count": 11,
   "metadata": {},
   "outputs": [],
   "source": [
    "import os\n",
    "dirPath='git/'\n",
    "for f_name in os.listdir(dirPath):\n",
    "    if f_name.startswith('0'):\n",
    "        print(f_name)"
   ]
  },
  {
   "cell_type": "markdown",
   "metadata": {},
   "source": [
    "## Deleting files and directories"
   ]
  },
  {
   "cell_type": "code",
   "execution_count": 12,
   "metadata": {},
   "outputs": [
    {
     "name": "stdout",
     "output_type": "stream",
     "text": [
      " Volume in drive C has no label.\n",
      " Volume Serial Number is A212-862E\n",
      "\n",
      " Directory of C:\\Users\\molab\n",
      "\n",
      "11-07-2019  16:18    <DIR>          .\n",
      "11-07-2019  16:18    <DIR>          ..\n",
      "15-06-2019  15:58    <DIR>          .anaconda\n",
      "05-07-2019  09:50             3,002 .bash_history\n",
      "06-07-2019  13:22    <DIR>          .conda\n",
      "06-07-2019  09:29                43 .condarc\n",
      "11-07-2019  09:10    <DIR>          .ipynb_checkpoints\n",
      "15-06-2019  16:03    <DIR>          .ipython\n",
      "05-07-2019  10:59    <DIR>          .jupyter\n",
      "11-07-2019  15:04             9,022 10th july 2019.ipynb\n",
      "11-07-2019  16:18            16,867 11th july 2019.ipynb\n",
      "11-07-2019  16:04    <DIR>          2019\n",
      "05-07-2019  14:48             5,652 5th july 2019.ipynb\n",
      "06-07-2019  12:10             3,730 6th july 19.ipynb\n",
      "06-07-2019  09:58             2,558 6th July 2019.ipynb\n",
      "08-07-2019  09:53             1,265 8th July 2019.ipynb\n",
      "09-07-2019  10:48             5,996 9th july 2019.ipynb\n",
      "15-06-2019  15:56    <DIR>          Anaconda3\n",
      "14-06-2019  15:40    <DIR>          Contacts\n",
      "22-06-2019  15:51             6,859 Day-6.ipynb\n",
      "11-07-2019  16:11    <DIR>          Desktop\n",
      "11-07-2019  08:59    <DIR>          Documents\n",
      "11-07-2019  15:10    <DIR>          Downloads\n",
      "14-06-2019  15:40    <DIR>          Favorites\n",
      "11-07-2019  09:54                12 file1.txt\n",
      "11-07-2019  10:13               320 file2.txt\n",
      "05-07-2019  09:18    <DIR>          Git\n",
      "14-06-2019  15:40    <DIR>          Links\n",
      "05-07-2019  16:45             5,652 manvi.ipynb\n",
      "05-07-2019  16:46             5,652 manvi-Copy1.ipynb\n",
      "14-06-2019  15:40    <DIR>          Music\n",
      "03-07-2019  09:45    <DIR>          Pictures\n",
      "05-07-2019  09:18    <DIR>          probsolvingprogramming\n",
      "05-07-2019  09:16    <DIR>          pythonprog\n",
      "14-06-2019  15:40    <DIR>          Saved Games\n",
      "01-07-2019  09:44    <DIR>          Searches\n",
      "11-07-2019  15:47    <DIR>          single directry\n",
      "11-07-2019  15:59    <DIR>          Test folder\n",
      "15-06-2019  16:03               734 Untitled.ipynb\n",
      "21-06-2019  09:40             2,586 Untitled1.ipynb\n",
      "21-06-2019  14:45               956 Untitled2.ipynb\n",
      "14-06-2019  15:40    <DIR>          Videos\n",
      "              17 File(s)         70,906 bytes\n",
      "              25 Dir(s)  187,719,540,736 bytes free\n"
     ]
    }
   ],
   "source": [
    "ls"
   ]
  },
  {
   "cell_type": "code",
   "execution_count": 13,
   "metadata": {},
   "outputs": [
    {
     "ename": "SyntaxError",
     "evalue": "can't assign to operator (<ipython-input-13-7344d43d8665>, line 2)",
     "output_type": "error",
     "traceback": [
      "\u001b[1;36m  File \u001b[1;32m\"<ipython-input-13-7344d43d8665>\"\u001b[1;36m, line \u001b[1;32m2\u001b[0m\n\u001b[1;33m    data-files = 'file1.txt'\u001b[0m\n\u001b[1;37m                            ^\u001b[0m\n\u001b[1;31mSyntaxError\u001b[0m\u001b[1;31m:\u001b[0m can't assign to operator\n"
     ]
    }
   ],
   "source": [
    "import os\n",
    "data-files = 'file1.txt'"
   ]
  },
  {
   "cell_type": "code",
   "execution_count": null,
   "metadata": {},
   "outputs": [],
   "source": []
  }
 ],
 "metadata": {
  "kernelspec": {
   "display_name": "Python 3",
   "language": "python",
   "name": "python3"
  },
  "language_info": {
   "codemirror_mode": {
    "name": "ipython",
    "version": 3
   },
   "file_extension": ".py",
   "mimetype": "text/x-python",
   "name": "python",
   "nbconvert_exporter": "python",
   "pygments_lexer": "ipython3",
   "version": "3.7.3"
  }
 },
 "nbformat": 4,
 "nbformat_minor": 2
}
